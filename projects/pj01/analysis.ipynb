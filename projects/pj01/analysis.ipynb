{
 "cells": [
  {
   "cell_type": "markdown",
   "metadata": {},
   "source": [
    "## Hypothesis\n",
    "\n",
    "My hypothesis is that students who are Computer Science majors (both BS and BA) will be more likely to say that the material learned is interesting than students of other majors.\n",
    "\n",
    "This next line of code will simply update this notebook whenever any changes in data_utils.py is saved."
   ]
  },
  {
   "cell_type": "code",
   "execution_count": 1,
   "metadata": {},
   "outputs": [],
   "source": [
    "%reload_ext autoreload\n",
    "%autoreload 2"
   ]
  },
  {
   "cell_type": "markdown",
   "metadata": {},
   "source": [
    "These next lines of code will transform the csv into a row-oriented table and from that into a column-oriented table."
   ]
  },
  {
   "cell_type": "code",
   "execution_count": 10,
   "metadata": {},
   "outputs": [],
   "source": [
    "from data_utils import read_csv_rows, columnar\n",
    "\n",
    "data_file: str = \"../../data/survey.csv\"\n",
    "data_table: list[dict[str, str]] = read_csv_rows(data_file)\n",
    "columns: dict[str, list[str]] = columnar(data_table)\n"
   ]
  },
  {
   "cell_type": "markdown",
   "metadata": {},
   "source": [
    "Next, I will select the columns of data needed for the analysis, specifically `comp_major` and `interesting` and display 10 rows of data to ensure I have the right columns."
   ]
  },
  {
   "cell_type": "code",
   "execution_count": 13,
   "metadata": {},
   "outputs": [
    {
     "data": {
      "text/plain": [
       "{'comp_major': ['No', 'No', 'No', 'No', 'No', 'No', 'No', 'No', 'No', 'No'],\n",
       " 'interesting': ['5', '7', '7', '5', '6', '5', '4', '5', '7', '5']}"
      ]
     },
     "execution_count": 13,
     "metadata": {},
     "output_type": "execute_result"
    }
   ],
   "source": [
    "from data_utils import head, select\n",
    "\n",
    "subset: dict[str, list[str]] = select(columns, [\"comp_major\", \"interesting\"])\n",
    "head(subset, 10)"
   ]
  },
  {
   "cell_type": "markdown",
   "metadata": {},
   "source": [
    "Next, I will count the total number of students that are majoring in Computer Science against those that are not (The minor is counted as not)."
   ]
  },
  {
   "cell_type": "code",
   "execution_count": 17,
   "metadata": {},
   "outputs": [
    {
     "name": "stdout",
     "output_type": "stream",
     "text": [
      "The number of total Comp Sci majors in the survey is: 136\n",
      "The number of total non Comp Sci majors in the survey is: 437\n"
     ]
    }
   ],
   "source": [
    "from data_utils import count\n",
    "counts = count(subset[\"comp_major\"])\n",
    "comp_majors: int = counts['Yes - BS'] + counts['Yes - BA']\n",
    "non_comp: int = counts['No'] + counts['Yes - Minor']\n",
    "\n",
    "print(f\"The number of total Comp Sci majors in the survey is: {comp_majors}\")\n",
    "print(f\"The number of total non Comp Sci majors in the survey is: {non_comp}\")"
   ]
  },
  {
   "cell_type": "markdown",
   "metadata": {},
   "source": [
    "Next, I will determine the average interest rating for the class depending on major, using my newly created function `addition_interest`."
   ]
  },
  {
   "cell_type": "code",
   "execution_count": 19,
   "metadata": {},
   "outputs": [
    {
     "name": "stdout",
     "output_type": "stream",
     "text": [
      "The average interest level for Computer Science majors in the COMP110 material was 6.3088235294117645\n",
      "The average interest level for non Computer Science majors in the COMP110 material was 5.503432494279176\n"
     ]
    }
   ],
   "source": [
    "from data_utils import addition_interest\n",
    "\n",
    "comp_sci_interest: float = addition_interest(subset, ['Yes - BS', 'Yes - BA'], comp_majors)\n",
    "non_comp_sci_interest: float = addition_interest(subset, ['Yes - Minor', 'No'], non_comp)\n",
    "print(f\"The average interest level for Computer Science majors in the COMP110 material was {comp_sci_interest}\")\n",
    "print(f\"The average interest level for non Computer Science majors in the COMP110 material was {non_comp_sci_interest}\")"
   ]
  },
  {
   "cell_type": "markdown",
   "metadata": {},
   "source": [
    "## Conclusion\n",
    "\n",
    "In conclusion, Computer science majors do on average showa higher interest in the COMP110 material than nonmajors do. This makes sense because students likely major in a subject because they are interested in the topic."
   ]
  }
 ],
 "metadata": {
  "interpreter": {
   "hash": "aee8b7b246df8f9039afb4144a1f6fd8d2ca17a180786b69acc140d282b71a49"
  },
  "kernelspec": {
   "display_name": "Python 3.9.6 64-bit",
   "name": "python3"
  },
  "language_info": {
   "codemirror_mode": {
    "name": "ipython",
    "version": 3
   },
   "file_extension": ".py",
   "mimetype": "text/x-python",
   "name": "python",
   "nbconvert_exporter": "python",
   "pygments_lexer": "ipython3",
   "version": "3.9.6"
  },
  "orig_nbformat": 4
 },
 "nbformat": 4,
 "nbformat_minor": 2
}
